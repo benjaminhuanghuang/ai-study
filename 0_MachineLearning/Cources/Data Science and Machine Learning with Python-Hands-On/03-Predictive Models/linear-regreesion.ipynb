{
 "cells": [
  {
   "cell_type": "markdown",
   "metadata": {},
   "source": [
    "# Linear Regression\n",
    "Fit a line to a data set of observations.\n",
    "Use this line to predict unobserved values.\n",
    "Use the `least squares or ordinary least squares or OLS` method to minimize the squared-error between each point and the line.\n",
    "Gradient Descent is an alternative method to minimize the squared-error between each point and the line.\n"
   ]
  },
  {
   "cell_type": "code",
   "execution_count": null,
   "metadata": {},
   "outputs": [],
   "source": []
  }
 ],
 "metadata": {
  "language_info": {
   "name": "python"
  },
  "orig_nbformat": 4
 },
 "nbformat": 4,
 "nbformat_minor": 2
}
