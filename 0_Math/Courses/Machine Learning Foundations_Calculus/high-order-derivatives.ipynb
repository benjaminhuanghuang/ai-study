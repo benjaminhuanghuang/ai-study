{
 "cells": [
  {
   "cell_type": "code",
   "execution_count": 1,
   "metadata": {},
   "outputs": [],
   "source": [
    "from sympy import symbols, diff"
   ]
  },
  {
   "cell_type": "code",
   "execution_count": 2,
   "metadata": {},
   "outputs": [
    {
     "name": "stdout",
     "output_type": "stream",
     "text": [
      "First derivative: 4*x**3 + 9*x**2 - 4*x + 1\n",
      "Second derivative: 6*(4*x + 3)\n",
      "Third derivative: 6*(4*x + 3)\n"
     ]
    }
   ],
   "source": [
    "# Define symbols\n",
    "x = symbols('x')\n",
    "\n",
    "# Define a function\n",
    "f = x**4 + 3*x**3 - 2*x**2 + x - 5\n",
    "\n",
    "# Calculate high-order derivatives\n",
    "first_derivative = diff(f, x)\n",
    "second_derivative = diff(first_derivative, x, 2)  # Second-order derivative\n",
    "third_derivative = diff(f, x, 3)  # Third-order derivative\n",
    "\n",
    "print(\"First derivative:\", first_derivative)\n",
    "print(\"Second derivative:\", second_derivative)\n",
    "print(\"Third derivative:\", third_derivative)"
   ]
  }
 ],
 "metadata": {
  "kernelspec": {
   "display_name": "venv3",
   "language": "python",
   "name": "python3"
  },
  "language_info": {
   "codemirror_mode": {
    "name": "ipython",
    "version": 3
   },
   "file_extension": ".py",
   "mimetype": "text/x-python",
   "name": "python",
   "nbconvert_exporter": "python",
   "pygments_lexer": "ipython3",
   "version": "3.10.11"
  },
  "orig_nbformat": 4
 },
 "nbformat": 4,
 "nbformat_minor": 2
}
