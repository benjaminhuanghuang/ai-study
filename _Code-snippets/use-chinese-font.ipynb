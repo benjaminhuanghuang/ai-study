{
 "cells": [
  {
   "cell_type": "code",
   "execution_count": 7,
   "metadata": {},
   "outputs": [],
   "source": [
    "import pandas as pd\n",
    "\n",
    "url = 'https://raw.githubusercontent.com/GrandmaCan/ML/main/Resgression/Salary_Data.csv'\n",
    "\n",
    "data = pd.read_csv(url)\n",
    "\n",
    "# Salary = Years * w +b\n",
    "x = data['YearsExperience']\n",
    "y = data['Salary']\n",
    "\n"
   ]
  },
  {
   "cell_type": "code",
   "execution_count": 16,
   "metadata": {},
   "outputs": [
    {
     "data": {
      "text/plain": [
       "'ChineseFont (1).ttf'"
      ]
     },
     "execution_count": 16,
     "metadata": {},
     "output_type": "execute_result"
    }
   ],
   "source": [
    "# download font\n",
    "#!pip install wget\n",
    "import wget\n",
    "wget.download(\"https://github.com/GrandmaCan/ML/blob/main/Resgression/ChineseFont.ttf\")"
   ]
  },
  {
   "cell_type": "code",
   "execution_count": 18,
   "metadata": {},
   "outputs": [
    {
     "ename": "RuntimeError",
     "evalue": "In FT2Font: Can not load face (unknown file format; error code 0x2)",
     "output_type": "error",
     "traceback": [
      "\u001b[1;31m---------------------------------------------------------------------------\u001b[0m",
      "\u001b[1;31mRuntimeError\u001b[0m                              Traceback (most recent call last)",
      "Cell \u001b[1;32mIn[18], line 7\u001b[0m\n\u001b[0;32m      3\u001b[0m \u001b[39mimport\u001b[39;00m \u001b[39mmatplotlib\u001b[39;00m\u001b[39m.\u001b[39;00m\u001b[39mpyplot\u001b[39;00m \u001b[39mas\u001b[39;00m \u001b[39mplt\u001b[39;00m\n\u001b[0;32m      5\u001b[0m \u001b[39mfrom\u001b[39;00m \u001b[39mmatplotlib\u001b[39;00m\u001b[39m.\u001b[39;00m\u001b[39mfont_manager\u001b[39;00m \u001b[39mimport\u001b[39;00m fontManager\n\u001b[1;32m----> 7\u001b[0m fontManager\u001b[39m.\u001b[39;49maddfont(\u001b[39m'\u001b[39;49m\u001b[39mChineseFont.ttf\u001b[39;49m\u001b[39m'\u001b[39;49m)\n\u001b[0;32m      8\u001b[0m mpl\u001b[39m.\u001b[39mrc(\u001b[39m'\u001b[39m\u001b[39mfont\u001b[39m\u001b[39m'\u001b[39m, family\u001b[39m=\u001b[39m\u001b[39m'\u001b[39m\u001b[39mChineseFont\u001b[39m\u001b[39m'\u001b[39m, size\u001b[39m=\u001b[39m\u001b[39m14\u001b[39m)\n\u001b[0;32m     10\u001b[0m plt\u001b[39m.\u001b[39mscatter(x,y, marker\u001b[39m=\u001b[39m\u001b[39m\"\u001b[39m\u001b[39mx\u001b[39m\u001b[39m\"\u001b[39m, color\u001b[39m=\u001b[39m\u001b[39m\"\u001b[39m\u001b[39mred\u001b[39m\u001b[39m\"\u001b[39m)\n",
      "File \u001b[1;32mc:\\ben-github\\ai-study\\venv3\\lib\\site-packages\\matplotlib\\font_manager.py:1044\u001b[0m, in \u001b[0;36mFontManager.addfont\u001b[1;34m(self, path)\u001b[0m\n\u001b[0;32m   1042\u001b[0m     \u001b[39mself\u001b[39m\u001b[39m.\u001b[39mafmlist\u001b[39m.\u001b[39mappend(prop)\n\u001b[0;32m   1043\u001b[0m \u001b[39melse\u001b[39;00m:\n\u001b[1;32m-> 1044\u001b[0m     font \u001b[39m=\u001b[39m ft2font\u001b[39m.\u001b[39;49mFT2Font(path)\n\u001b[0;32m   1045\u001b[0m     prop \u001b[39m=\u001b[39m ttfFontProperty(font)\n\u001b[0;32m   1046\u001b[0m     \u001b[39mself\u001b[39m\u001b[39m.\u001b[39mttflist\u001b[39m.\u001b[39mappend(prop)\n",
      "\u001b[1;31mRuntimeError\u001b[0m: In FT2Font: Can not load face (unknown file format; error code 0x2)"
     ]
    }
   ],
   "source": [
    "import matplotlib as mpl\n",
    "\n",
    "import matplotlib.pyplot as plt\n",
    "\n",
    "from matplotlib.font_manager import fontManager\n",
    "\n",
    "fontManager.addfont('ChineseFont.ttf')\n",
    "mpl.rc('font', family='ChineseFont', size=14)\n",
    "\n",
    "plt.scatter(x,y, marker=\"x\", color=\"red\")\n",
    "plt.title(\"工资-工龄\")\n",
    "plt.xlabel(\"工龄\")\n",
    "plt.ylabel(\"工资\")\n",
    "plt.show()"
   ]
  }
 ],
 "metadata": {
  "kernelspec": {
   "display_name": "venv3",
   "language": "python",
   "name": "python3"
  },
  "language_info": {
   "codemirror_mode": {
    "name": "ipython",
    "version": 3
   },
   "file_extension": ".py",
   "mimetype": "text/x-python",
   "name": "python",
   "nbconvert_exporter": "python",
   "pygments_lexer": "ipython3",
   "version": "3.10.11"
  },
  "orig_nbformat": 4
 },
 "nbformat": 4,
 "nbformat_minor": 2
}
