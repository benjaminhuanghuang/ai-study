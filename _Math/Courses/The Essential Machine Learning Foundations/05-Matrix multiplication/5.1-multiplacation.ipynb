{
 "cells": [
  {
   "cell_type": "code",
   "execution_count": 1,
   "metadata": {},
   "outputs": [
    {
     "name": "stdout",
     "output_type": "stream",
     "text": [
      "Result using np.dot():\n",
      "[[19 22]\n",
      " [43 50]]\n",
      "Result using @ operator:\n",
      "[[19 22]\n",
      " [43 50]]\n"
     ]
    }
   ],
   "source": [
    "import numpy as np\n",
    "\n",
    "# Define two matrices\n",
    "matrix_a = np.array([[1, 2],\n",
    "                     [3, 4]])\n",
    "\n",
    "matrix_b = np.array([[5, 6],\n",
    "                     [7, 8]])\n",
    "\n",
    "# Method 1: Using numpy.dot() function\n",
    "result_dot = np.dot(matrix_a, matrix_b)\n",
    "print(\"Result using np.dot():\")\n",
    "print(result_dot)\n",
    "\n",
    "# Method 2: Using @ operator (Python 3.5+)\n",
    "result_at = matrix_a @ matrix_b\n",
    "print(\"Result using @ operator:\")\n",
    "print(result_at)\n"
   ]
  }
 ],
 "metadata": {
  "kernelspec": {
   "display_name": "venv3",
   "language": "python",
   "name": "python3"
  },
  "language_info": {
   "codemirror_mode": {
    "name": "ipython",
    "version": 3
   },
   "file_extension": ".py",
   "mimetype": "text/x-python",
   "name": "python",
   "nbconvert_exporter": "python",
   "pygments_lexer": "ipython3",
   "version": "3.10.11"
  },
  "orig_nbformat": 4
 },
 "nbformat": 4,
 "nbformat_minor": 2
}
