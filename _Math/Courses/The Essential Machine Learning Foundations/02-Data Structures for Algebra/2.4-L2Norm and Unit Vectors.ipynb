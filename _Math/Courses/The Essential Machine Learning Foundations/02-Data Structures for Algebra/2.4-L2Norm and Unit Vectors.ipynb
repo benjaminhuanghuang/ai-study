{
 "cells": [
  {
   "cell_type": "markdown",
   "metadata": {},
   "source": [
    "## L2 Norm\n",
    "\n",
    "Vectors can also represent a magnitude and direction from the origin (0, 0).\n",
    "\n",
    "Norms are functions that quantity vector magnitude.\n",
    "\n",
    "The most common norm is the L2 norm. Measures the Euclidean distance from origin\n",
    "\n",
    "It's a way to quantify the distance between the origin (0, 0) and the point represented by the vector in an n-dimensional space:\n",
    "```\n",
    "||X||  = (x1**2 + x2**2 +....+ xn**2)**(1/2)\n",
    "```"
   ]
  },
  {
   "cell_type": "code",
   "execution_count": 1,
   "metadata": {},
   "outputs": [],
   "source": [
    "import numpy as np\n",
    "\n",
    "x = np.array([25, 2, 5])\n",
    "\n",
    "L2Norm = np.linalg.norm(x)"
   ]
  },
  {
   "cell_type": "markdown",
   "metadata": {},
   "source": [
    "L1 Norm"
   ]
  },
  {
   "cell_type": "code",
   "execution_count": null,
   "metadata": {},
   "outputs": [],
   "source": [
    "np.abs(25) + np.abs(2) + np.abs(5)"
   ]
  },
  {
   "cell_type": "markdown",
   "metadata": {},
   "source": [
    "Max Norm"
   ]
  },
  {
   "cell_type": "code",
   "execution_count": null,
   "metadata": {},
   "outputs": [],
   "source": [
    "np.max([np.abs(25), np.abs(2), np.abs(5)])"
   ]
  }
 ],
 "metadata": {
  "kernelspec": {
   "display_name": "venv3",
   "language": "python",
   "name": "python3"
  },
  "language_info": {
   "codemirror_mode": {
    "name": "ipython",
    "version": 3
   },
   "file_extension": ".py",
   "mimetype": "text/x-python",
   "name": "python",
   "nbconvert_exporter": "python",
   "pygments_lexer": "ipython3",
   "version": "3.10.11"
  },
  "orig_nbformat": 4
 },
 "nbformat": 4,
 "nbformat_minor": 2
}
